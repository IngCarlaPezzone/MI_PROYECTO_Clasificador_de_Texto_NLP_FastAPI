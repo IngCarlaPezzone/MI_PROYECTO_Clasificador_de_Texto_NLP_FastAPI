{
  "cells": [
    {
      "cell_type": "markdown",
      "metadata": {},
      "source": [
        "<a target=\"_blank\" href=\"https://colab.research.google.com/github/IngCarlaPezzone/MI_PROYECTO_Clasificador_de_Texto_NLP_FastAPI/blob/main/Clasificador_Textos_NLP.ipynb\">\n",
        "  <img src=\"https://colab.research.google.com/assets/colab-badge.svg\" alt=\"Open In Colab\"/>\n",
        "</a>"
      ]
    },
    {
      "cell_type": "markdown",
      "metadata": {
        "id": "wAS_TOOWtuYO"
      },
      "source": [
        "# Clasificador de Textos usando NLP\n",
        "\n",
        "A continuación, se explican los pasos realizados para entrenar un modelo con NLP que predice la categoría a la que pertence un determinado texto.\n"
      ]
    },
    {
      "cell_type": "markdown",
      "metadata": {
        "id": "vuN0OHeDuO03"
      },
      "source": [
        "## Importaciones y descargas necesarias"
      ]
    },
    {
      "cell_type": "code",
      "execution_count": null,
      "metadata": {
        "colab": {
          "base_uri": "https://localhost:8080/"
        },
        "id": "qJg0IvKPQg0D",
        "outputId": "b78bfc1f-8ca2-48ba-eb09-dd0dada6f5c2"
      },
      "outputs": [
        {
          "name": "stderr",
          "output_type": "stream",
          "text": [
            "[nltk_data] Downloading package stopwords to /root/nltk_data...\n",
            "[nltk_data]   Unzipping corpora/stopwords.zip.\n",
            "[nltk_data] Downloading package wordnet to /root/nltk_data...\n",
            "[nltk_data] Downloading package punkt to /root/nltk_data...\n",
            "[nltk_data]   Unzipping tokenizers/punkt.zip.\n"
          ]
        },
        {
          "name": "stdout",
          "output_type": "stream",
          "text": [
            "Mounted at /content/drive\n",
            "/content/drive/MyDrive/Clasificador_textos\n"
          ]
        }
      ],
      "source": [
        "# Importaciones a usar\n",
        "import os\n",
        "import shutil\n",
        "import re\n",
        "import glob\n",
        "\n",
        "import numpy as np\n",
        "import pandas as pd\n",
        "import json\n",
        "\n",
        "from bs4 import BeautifulSoup\n",
        "import requests\n",
        "import string\n",
        "import nltk\n",
        "from nltk.tokenize import word_tokenize\n",
        "from nltk.corpus import stopwords\n",
        "from nltk.stem import WordNetLemmatizer\n",
        "from collections import Counter\n",
        "\n",
        "from sklearn.model_selection import train_test_split\n",
        "\n",
        "import tensorflow as tf\n",
        "from sklearn.model_selection import train_test_split\n",
        "from sklearn.preprocessing import LabelEncoder\n",
        "from tensorflow.keras.preprocessing.text import Tokenizer\n",
        "from tensorflow.keras.preprocessing.sequence import pad_sequences\n",
        "from tensorflow.keras import regularizers\n",
        "from keras.callbacks import ModelCheckpoint, EarlyStopping, CSVLogger\n",
        "\n",
        "import matplotlib.pyplot as plt\n",
        "\n",
        "# Descargas necesarias\n",
        "nltk.download('stopwords')\n",
        "nltk.download('wordnet')\n",
        "nltk.download('punkt')\n",
        "\n",
        "# Conectar con colab\n",
        "from google.colab import drive\n",
        "drive.mount('/content/drive')\n",
        "\n",
        "# Cambiar al directorio de trabajo\n",
        "os.chdir('/content/drive/MyDrive/Clasificador_textos') # <--- Modificar a su ubicación del proyecto\n",
        "\n",
        "# Verifica la ubicación actual\n",
        "!pwd"
      ]
    },
    {
      "cell_type": "markdown",
      "metadata": {
        "id": "6gcXg0ujukH6"
      },
      "source": [
        "## Creación del conjunto de datos"
      ]
    },
    {
      "cell_type": "markdown",
      "metadata": {},
      "source": [
        "### Creación del listado de URL para armar el conjunto de datos"
      ]
    },
    {
      "cell_type": "markdown",
      "metadata": {},
      "source": [
        "En primer lugar se necesita crear el archivo `DataSet.csv` que se puede crear con ChatGPT. Por ejemplo, para este proyecto se utilizó el siguiente prompt para solicitar un listado de URL por temas de interés:\n",
        "\n",
        "\"*Sos un machine learning developer, y estas haciendo un data set para una clasificación de texto. Necesitas armar el conjunto de datos. Necesito que me des 50 links de wikipedia en ingles, relacionados con el tema Meteorología.\n",
        "Me los tenes que dar en formato csv con dos columnas, la primera con las URL y la segunda con la Clase, que en este caso sería Meteorology.*\"\n",
        "\n",
        "Solicitarle continuar la respuesta hasta que finalice de escribir las URL, si fuera necesario. Cuando finalice, se le puede decir:\n",
        "\n",
        "\"*Dame lo mismo para biologia*\"\n",
        "\n",
        "De esta manera, se puede solicitar todas las categorías de interés. Para este proyecto se usaron: Meteorología, Biología y Deporte.\n",
        "\n",
        "Guardar todos los links que proporciona ChatGPT en un solo archivo .csv con la precaución de nombrar las columnas como URL y Clase."
      ]
    },
    {
      "cell_type": "markdown",
      "metadata": {},
      "source": [
        "### Creación del DataFrame con los textos extraídos de las URL"
      ]
    },
    {
      "cell_type": "markdown",
      "metadata": {},
      "source": [
        "\n",
        "Con la función `obtener_registros_por_parrafo` se recorre el archivo `DataSet.csv`, obtiene los textos ubicados entre etiquetas `<p>` y los guarda en un DataFrame llamado `registros_df`.\n",
        "\n"
      ]
    },
    {
      "cell_type": "code",
      "execution_count": 7,
      "metadata": {
        "id": "SH6yIrEPTRic"
      },
      "outputs": [],
      "source": [
        "def obtener_registros_por_parrafo(archivo):\n",
        "    '''\n",
        "    Permite abrir un archivo .csv que contiene una columna con las URL desde donde se quiere extrae textos y\n",
        "    otra columna con las Clase (categoría) a la que pertenece ese texto.\n",
        "    La función recorre cada URL y toma el texto que se encuentra en las etiquetas <p>.\n",
        "    Finalmente lo guarda en un DataFrame de pandas.\n",
        "    '''\n",
        "    # Lee el archivo de CSV con pandas\n",
        "    df = pd.read_csv(archivo, encoding='latin1')\n",
        "\n",
        "    # Lista vacía para guardar los registros\n",
        "    registros = []\n",
        "\n",
        "    # Itera sobre cada registro del df\n",
        "    for _, row in df.iterrows():\n",
        "        url = row[\"URL\"]\n",
        "        clase = row[\"Clase\"]\n",
        "\n",
        "        # Toma los parrafos si es que la URL funciona\n",
        "        req = requests.get(url)\n",
        "        if req.status_code == 200:\n",
        "            html = BeautifulSoup(req.text, \"html.parser\")\n",
        "            parrafos = [para.text for para in html.find_all(\"p\")]\n",
        "\n",
        "            for parrafo in parrafos:\n",
        "                # Divide el párrafo en sentencias usando los saltos de línea\n",
        "                sentencias = parrafo.split('\\n')\n",
        "\n",
        "                for sentencia in sentencias:\n",
        "                    # Elimina espacios en blanco al inicio y final de la sentencia\n",
        "                    sentencia = sentencia.strip()\n",
        "\n",
        "                    # Agrega un registro por cada sentencia conservando la URL y la clase\n",
        "                    registros.append({\"URL\": url, \"Clase\": clase, \"Sentencia\": sentencia})\n",
        "\n",
        "    # Crea el DtaFrame final con los registros obtenidos\n",
        "    registros_df = pd.DataFrame(registros)\n",
        "    return registros_df\n"
      ]
    },
    {
      "cell_type": "code",
      "execution_count": 8,
      "metadata": {
        "colab": {
          "base_uri": "https://localhost:8080/",
          "height": 424
        },
        "id": "BNqQhZPV-c33",
        "outputId": "4f5ab232-d6d5-458a-c5b7-2137a05ed613"
      },
      "outputs": [
        {
          "data": {
            "text/html": [
              "\n",
              "  <div id=\"df-0155b13b-f3b5-4196-bd4f-50e49ea1788a\">\n",
              "    <div class=\"colab-df-container\">\n",
              "      <div>\n",
              "<style scoped>\n",
              "    .dataframe tbody tr th:only-of-type {\n",
              "        vertical-align: middle;\n",
              "    }\n",
              "\n",
              "    .dataframe tbody tr th {\n",
              "        vertical-align: top;\n",
              "    }\n",
              "\n",
              "    .dataframe thead th {\n",
              "        text-align: right;\n",
              "    }\n",
              "</style>\n",
              "<table border=\"1\" class=\"dataframe\">\n",
              "  <thead>\n",
              "    <tr style=\"text-align: right;\">\n",
              "      <th></th>\n",
              "      <th>URL</th>\n",
              "      <th>Clase</th>\n",
              "      <th>Sentencia</th>\n",
              "    </tr>\n",
              "  </thead>\n",
              "  <tbody>\n",
              "    <tr>\n",
              "      <th>0</th>\n",
              "      <td>https://en.wikipedia.org/wiki/Meteorology</td>\n",
              "      <td>Meteorology</td>\n",
              "      <td></td>\n",
              "    </tr>\n",
              "    <tr>\n",
              "      <th>1</th>\n",
              "      <td>https://en.wikipedia.org/wiki/Meteorology</td>\n",
              "      <td>Meteorology</td>\n",
              "      <td></td>\n",
              "    </tr>\n",
              "    <tr>\n",
              "      <th>2</th>\n",
              "      <td>https://en.wikipedia.org/wiki/Meteorology</td>\n",
              "      <td>Meteorology</td>\n",
              "      <td>Atmospheric physics</td>\n",
              "    </tr>\n",
              "    <tr>\n",
              "      <th>3</th>\n",
              "      <td>https://en.wikipedia.org/wiki/Meteorology</td>\n",
              "      <td>Meteorology</td>\n",
              "      <td>Atmospheric dynamics (category)</td>\n",
              "    </tr>\n",
              "    <tr>\n",
              "      <th>4</th>\n",
              "      <td>https://en.wikipedia.org/wiki/Meteorology</td>\n",
              "      <td>Meteorology</td>\n",
              "      <td></td>\n",
              "    </tr>\n",
              "    <tr>\n",
              "      <th>...</th>\n",
              "      <td>...</td>\n",
              "      <td>...</td>\n",
              "      <td>...</td>\n",
              "    </tr>\n",
              "    <tr>\n",
              "      <th>19400</th>\n",
              "      <td>https://en.wikipedia.org/wiki/Sports_equipment</td>\n",
              "      <td>Sport</td>\n",
              "      <td></td>\n",
              "    </tr>\n",
              "    <tr>\n",
              "      <th>19401</th>\n",
              "      <td>https://en.wikipedia.org/wiki/Sports_equipment</td>\n",
              "      <td>Sport</td>\n",
              "      <td>Vehicles (sometimes specialized) are used as e...</td>\n",
              "    </tr>\n",
              "    <tr>\n",
              "      <th>19402</th>\n",
              "      <td>https://en.wikipedia.org/wiki/Sports_equipment</td>\n",
              "      <td>Sport</td>\n",
              "      <td></td>\n",
              "    </tr>\n",
              "    <tr>\n",
              "      <th>19403</th>\n",
              "      <td>https://en.wikipedia.org/wiki/Sports_equipment</td>\n",
              "      <td>Sport</td>\n",
              "      <td>Small vehicles with flatbeds are often used to...</td>\n",
              "    </tr>\n",
              "    <tr>\n",
              "      <th>19404</th>\n",
              "      <td>https://en.wikipedia.org/wiki/Sports_equipment</td>\n",
              "      <td>Sport</td>\n",
              "      <td></td>\n",
              "    </tr>\n",
              "  </tbody>\n",
              "</table>\n",
              "<p>19405 rows × 3 columns</p>\n",
              "</div>\n",
              "      <button class=\"colab-df-convert\" onclick=\"convertToInteractive('df-0155b13b-f3b5-4196-bd4f-50e49ea1788a')\"\n",
              "              title=\"Convert this dataframe to an interactive table.\"\n",
              "              style=\"display:none;\">\n",
              "        \n",
              "  <svg xmlns=\"http://www.w3.org/2000/svg\" height=\"24px\"viewBox=\"0 0 24 24\"\n",
              "       width=\"24px\">\n",
              "    <path d=\"M0 0h24v24H0V0z\" fill=\"none\"/>\n",
              "    <path d=\"M18.56 5.44l.94 2.06.94-2.06 2.06-.94-2.06-.94-.94-2.06-.94 2.06-2.06.94zm-11 1L8.5 8.5l.94-2.06 2.06-.94-2.06-.94L8.5 2.5l-.94 2.06-2.06.94zm10 10l.94 2.06.94-2.06 2.06-.94-2.06-.94-.94-2.06-.94 2.06-2.06.94z\"/><path d=\"M17.41 7.96l-1.37-1.37c-.4-.4-.92-.59-1.43-.59-.52 0-1.04.2-1.43.59L10.3 9.45l-7.72 7.72c-.78.78-.78 2.05 0 2.83L4 21.41c.39.39.9.59 1.41.59.51 0 1.02-.2 1.41-.59l7.78-7.78 2.81-2.81c.8-.78.8-2.07 0-2.86zM5.41 20L4 18.59l7.72-7.72 1.47 1.35L5.41 20z\"/>\n",
              "  </svg>\n",
              "      </button>\n",
              "      \n",
              "  <style>\n",
              "    .colab-df-container {\n",
              "      display:flex;\n",
              "      flex-wrap:wrap;\n",
              "      gap: 12px;\n",
              "    }\n",
              "\n",
              "    .colab-df-convert {\n",
              "      background-color: #E8F0FE;\n",
              "      border: none;\n",
              "      border-radius: 50%;\n",
              "      cursor: pointer;\n",
              "      display: none;\n",
              "      fill: #1967D2;\n",
              "      height: 32px;\n",
              "      padding: 0 0 0 0;\n",
              "      width: 32px;\n",
              "    }\n",
              "\n",
              "    .colab-df-convert:hover {\n",
              "      background-color: #E2EBFA;\n",
              "      box-shadow: 0px 1px 2px rgba(60, 64, 67, 0.3), 0px 1px 3px 1px rgba(60, 64, 67, 0.15);\n",
              "      fill: #174EA6;\n",
              "    }\n",
              "\n",
              "    [theme=dark] .colab-df-convert {\n",
              "      background-color: #3B4455;\n",
              "      fill: #D2E3FC;\n",
              "    }\n",
              "\n",
              "    [theme=dark] .colab-df-convert:hover {\n",
              "      background-color: #434B5C;\n",
              "      box-shadow: 0px 1px 3px 1px rgba(0, 0, 0, 0.15);\n",
              "      filter: drop-shadow(0px 1px 2px rgba(0, 0, 0, 0.3));\n",
              "      fill: #FFFFFF;\n",
              "    }\n",
              "  </style>\n",
              "\n",
              "      <script>\n",
              "        const buttonEl =\n",
              "          document.querySelector('#df-0155b13b-f3b5-4196-bd4f-50e49ea1788a button.colab-df-convert');\n",
              "        buttonEl.style.display =\n",
              "          google.colab.kernel.accessAllowed ? 'block' : 'none';\n",
              "\n",
              "        async function convertToInteractive(key) {\n",
              "          const element = document.querySelector('#df-0155b13b-f3b5-4196-bd4f-50e49ea1788a');\n",
              "          const dataTable =\n",
              "            await google.colab.kernel.invokeFunction('convertToInteractive',\n",
              "                                                     [key], {});\n",
              "          if (!dataTable) return;\n",
              "\n",
              "          const docLinkHtml = 'Like what you see? Visit the ' +\n",
              "            '<a target=\"_blank\" href=https://colab.research.google.com/notebooks/data_table.ipynb>data table notebook</a>'\n",
              "            + ' to learn more about interactive tables.';\n",
              "          element.innerHTML = '';\n",
              "          dataTable['output_type'] = 'display_data';\n",
              "          await google.colab.output.renderOutput(dataTable, element);\n",
              "          const docLink = document.createElement('div');\n",
              "          docLink.innerHTML = docLinkHtml;\n",
              "          element.appendChild(docLink);\n",
              "        }\n",
              "      </script>\n",
              "    </div>\n",
              "  </div>\n",
              "  "
            ],
            "text/plain": [
              "                                                  URL        Clase  \\\n",
              "0           https://en.wikipedia.org/wiki/Meteorology  Meteorology   \n",
              "1           https://en.wikipedia.org/wiki/Meteorology  Meteorology   \n",
              "2           https://en.wikipedia.org/wiki/Meteorology  Meteorology   \n",
              "3           https://en.wikipedia.org/wiki/Meteorology  Meteorology   \n",
              "4           https://en.wikipedia.org/wiki/Meteorology  Meteorology   \n",
              "...                                               ...          ...   \n",
              "19400  https://en.wikipedia.org/wiki/Sports_equipment        Sport   \n",
              "19401  https://en.wikipedia.org/wiki/Sports_equipment        Sport   \n",
              "19402  https://en.wikipedia.org/wiki/Sports_equipment        Sport   \n",
              "19403  https://en.wikipedia.org/wiki/Sports_equipment        Sport   \n",
              "19404  https://en.wikipedia.org/wiki/Sports_equipment        Sport   \n",
              "\n",
              "                                               Sentencia  \n",
              "0                                                         \n",
              "1                                                         \n",
              "2                                    Atmospheric physics  \n",
              "3                        Atmospheric dynamics (category)  \n",
              "4                                                         \n",
              "...                                                  ...  \n",
              "19400                                                     \n",
              "19401  Vehicles (sometimes specialized) are used as e...  \n",
              "19402                                                     \n",
              "19403  Small vehicles with flatbeds are often used to...  \n",
              "19404                                                     \n",
              "\n",
              "[19405 rows x 3 columns]"
            ]
          },
          "execution_count": 8,
          "metadata": {},
          "output_type": "execute_result"
        }
      ],
      "source": [
        "# Ejecutamos la función y visualizamos el DataFrame\n",
        "archivo = \"./DataSet.csv\"\n",
        "df_registros = obtener_registros_por_parrafo(archivo)\n",
        "df_registros"
      ]
    },
    {
      "cell_type": "markdown",
      "metadata": {
        "id": "wQ6SQgtQ0xth"
      },
      "source": [
        "## Limpieza de los textos"
      ]
    },
    {
      "cell_type": "markdown",
      "metadata": {},
      "source": [
        "\n",
        "La función `limpiar_df` realiza la limpieza de los textos extraídos de las URL y guardados en el DataFrame del punto anterior.\n",
        "\n",
        "La limpieza consiste en:\n",
        "* Convertir todos los textos a minúscula\n",
        "* Eliminar stopswords, números y signos de puntuación\n",
        "* Obtener los lemas de las palabras\n",
        "* Crea sentencias con los saltos de línea, para obtener textos mas cortos.\n",
        "* Eliminar registros con menos de 10 palabras\n",
        "\n",
        "Retorna el DataFrame limpio donde podemos averiguar la cantidad de registros, la longitud máxima de las sentencias y la longitud promedio. Estos últimos valores los necesitamos conocer para saber dónde podemos truncar las sentencias."
      ]
    },
    {
      "cell_type": "code",
      "execution_count": 9,
      "metadata": {
        "id": "hN5UhOpPWGwe"
      },
      "outputs": [],
      "source": [
        "def limpiar_df(df):\n",
        "    '''\n",
        "    Permite limpiar un DataFrame, convirtiendo todo a minúsculas, eliminando stopswords, números y signos de puntuación,\n",
        "    obteniendo los lemas de las palabras y eliminando registros cortos de menos de 10 palabras.\n",
        "    Retorna un DataFrame limpio.\n",
        "    '''\n",
        "    # Convertir todo a minúsculas\n",
        "    df['Sentencia'] = df['Sentencia'].str.lower()\n",
        "\n",
        "    # Eliminar stopwords, números y signos de puntuación\n",
        "    stop_words = set(stopwords.words('english'))\n",
        "    lemmatizer = WordNetLemmatizer()\n",
        "    df['Sentencia'] = df['Sentencia'].apply(lambda x: ' '.join([lemmatizer.lemmatize(word) for word in x.split() if word not in stop_words and not word.isnumeric()]))\n",
        "\n",
        "    # Genera sentencias por cada salto de línea\n",
        "    df['Sentencia'] = df['Sentencia'].apply(lambda x: re.sub(r'[^\\w\\s]', '', x))\n",
        "\n",
        "    # Eliminar registros con menos de 10 palabras\n",
        "    df['Num_Words'] = df['Sentencia'].apply(lambda x: len(re.findall(r'\\w+', x)))\n",
        "    df = df[df['Num_Words'] >= 10].drop(columns='Num_Words')\n",
        "\n",
        "    return df\n"
      ]
    },
    {
      "cell_type": "code",
      "execution_count": 10,
      "metadata": {
        "colab": {
          "base_uri": "https://localhost:8080/",
          "height": 424
        },
        "id": "q9rxayYkWG59",
        "outputId": "a8d96b65-33fb-406b-e979-dacd675b8937"
      },
      "outputs": [
        {
          "data": {
            "text/html": [
              "\n",
              "  <div id=\"df-00f18793-5a64-41f1-b2c7-ba7c22a8a971\">\n",
              "    <div class=\"colab-df-container\">\n",
              "      <div>\n",
              "<style scoped>\n",
              "    .dataframe tbody tr th:only-of-type {\n",
              "        vertical-align: middle;\n",
              "    }\n",
              "\n",
              "    .dataframe tbody tr th {\n",
              "        vertical-align: top;\n",
              "    }\n",
              "\n",
              "    .dataframe thead th {\n",
              "        text-align: right;\n",
              "    }\n",
              "</style>\n",
              "<table border=\"1\" class=\"dataframe\">\n",
              "  <thead>\n",
              "    <tr style=\"text-align: right;\">\n",
              "      <th></th>\n",
              "      <th>URL</th>\n",
              "      <th>Clase</th>\n",
              "      <th>Sentencia</th>\n",
              "    </tr>\n",
              "  </thead>\n",
              "  <tbody>\n",
              "    <tr>\n",
              "      <th>10</th>\n",
              "      <td>https://en.wikipedia.org/wiki/Meteorology</td>\n",
              "      <td>Meteorology</td>\n",
              "      <td>meteorology branch atmospheric science which i...</td>\n",
              "    </tr>\n",
              "    <tr>\n",
              "      <th>12</th>\n",
              "      <td>https://en.wikipedia.org/wiki/Meteorology</td>\n",
              "      <td>Meteorology</td>\n",
              "      <td>meteorological phenomenon observable weather e...</td>\n",
              "    </tr>\n",
              "    <tr>\n",
              "      <th>14</th>\n",
              "      <td>https://en.wikipedia.org/wiki/Meteorology</td>\n",
              "      <td>Meteorology</td>\n",
              "      <td>meteorology climatology atmospheric physics at...</td>\n",
              "    </tr>\n",
              "    <tr>\n",
              "      <th>16</th>\n",
              "      <td>https://en.wikipedia.org/wiki/Meteorology</td>\n",
              "      <td>Meteorology</td>\n",
              "      <td>word meteorology ancient greek μετέωρος metéōr...</td>\n",
              "    </tr>\n",
              "    <tr>\n",
              "      <th>18</th>\n",
              "      <td>https://en.wikipedia.org/wiki/Meteorology</td>\n",
              "      <td>Meteorology</td>\n",
              "      <td>early attempt predicting weather often related...</td>\n",
              "    </tr>\n",
              "    <tr>\n",
              "      <th>...</th>\n",
              "      <td>...</td>\n",
              "      <td>...</td>\n",
              "      <td>...</td>\n",
              "    </tr>\n",
              "    <tr>\n",
              "      <th>19395</th>\n",
              "      <td>https://en.wikipedia.org/wiki/Sports_equipment</td>\n",
              "      <td>Sport</td>\n",
              "      <td>protective equipment often worn sport includin...</td>\n",
              "    </tr>\n",
              "    <tr>\n",
              "      <th>19397</th>\n",
              "      <td>https://en.wikipedia.org/wiki/Sports_equipment</td>\n",
              "      <td>Sport</td>\n",
              "      <td>example training equipment include swiss balls...</td>\n",
              "    </tr>\n",
              "    <tr>\n",
              "      <th>19399</th>\n",
              "      <td>https://en.wikipedia.org/wiki/Sports_equipment</td>\n",
              "      <td>Sport</td>\n",
              "      <td>special sport equipment equipment usually worn...</td>\n",
              "    </tr>\n",
              "    <tr>\n",
              "      <th>19401</th>\n",
              "      <td>https://en.wikipedia.org/wiki/Sports_equipment</td>\n",
              "      <td>Sport</td>\n",
              "      <td>vehicle sometimes specialized used equipment s...</td>\n",
              "    </tr>\n",
              "    <tr>\n",
              "      <th>19403</th>\n",
              "      <td>https://en.wikipedia.org/wiki/Sports_equipment</td>\n",
              "      <td>Sport</td>\n",
              "      <td>small vehicle flatbed often used carry injured...</td>\n",
              "    </tr>\n",
              "  </tbody>\n",
              "</table>\n",
              "<p>8009 rows × 3 columns</p>\n",
              "</div>\n",
              "      <button class=\"colab-df-convert\" onclick=\"convertToInteractive('df-00f18793-5a64-41f1-b2c7-ba7c22a8a971')\"\n",
              "              title=\"Convert this dataframe to an interactive table.\"\n",
              "              style=\"display:none;\">\n",
              "        \n",
              "  <svg xmlns=\"http://www.w3.org/2000/svg\" height=\"24px\"viewBox=\"0 0 24 24\"\n",
              "       width=\"24px\">\n",
              "    <path d=\"M0 0h24v24H0V0z\" fill=\"none\"/>\n",
              "    <path d=\"M18.56 5.44l.94 2.06.94-2.06 2.06-.94-2.06-.94-.94-2.06-.94 2.06-2.06.94zm-11 1L8.5 8.5l.94-2.06 2.06-.94-2.06-.94L8.5 2.5l-.94 2.06-2.06.94zm10 10l.94 2.06.94-2.06 2.06-.94-2.06-.94-.94-2.06-.94 2.06-2.06.94z\"/><path d=\"M17.41 7.96l-1.37-1.37c-.4-.4-.92-.59-1.43-.59-.52 0-1.04.2-1.43.59L10.3 9.45l-7.72 7.72c-.78.78-.78 2.05 0 2.83L4 21.41c.39.39.9.59 1.41.59.51 0 1.02-.2 1.41-.59l7.78-7.78 2.81-2.81c.8-.78.8-2.07 0-2.86zM5.41 20L4 18.59l7.72-7.72 1.47 1.35L5.41 20z\"/>\n",
              "  </svg>\n",
              "      </button>\n",
              "      \n",
              "  <style>\n",
              "    .colab-df-container {\n",
              "      display:flex;\n",
              "      flex-wrap:wrap;\n",
              "      gap: 12px;\n",
              "    }\n",
              "\n",
              "    .colab-df-convert {\n",
              "      background-color: #E8F0FE;\n",
              "      border: none;\n",
              "      border-radius: 50%;\n",
              "      cursor: pointer;\n",
              "      display: none;\n",
              "      fill: #1967D2;\n",
              "      height: 32px;\n",
              "      padding: 0 0 0 0;\n",
              "      width: 32px;\n",
              "    }\n",
              "\n",
              "    .colab-df-convert:hover {\n",
              "      background-color: #E2EBFA;\n",
              "      box-shadow: 0px 1px 2px rgba(60, 64, 67, 0.3), 0px 1px 3px 1px rgba(60, 64, 67, 0.15);\n",
              "      fill: #174EA6;\n",
              "    }\n",
              "\n",
              "    [theme=dark] .colab-df-convert {\n",
              "      background-color: #3B4455;\n",
              "      fill: #D2E3FC;\n",
              "    }\n",
              "\n",
              "    [theme=dark] .colab-df-convert:hover {\n",
              "      background-color: #434B5C;\n",
              "      box-shadow: 0px 1px 3px 1px rgba(0, 0, 0, 0.15);\n",
              "      filter: drop-shadow(0px 1px 2px rgba(0, 0, 0, 0.3));\n",
              "      fill: #FFFFFF;\n",
              "    }\n",
              "  </style>\n",
              "\n",
              "      <script>\n",
              "        const buttonEl =\n",
              "          document.querySelector('#df-00f18793-5a64-41f1-b2c7-ba7c22a8a971 button.colab-df-convert');\n",
              "        buttonEl.style.display =\n",
              "          google.colab.kernel.accessAllowed ? 'block' : 'none';\n",
              "\n",
              "        async function convertToInteractive(key) {\n",
              "          const element = document.querySelector('#df-00f18793-5a64-41f1-b2c7-ba7c22a8a971');\n",
              "          const dataTable =\n",
              "            await google.colab.kernel.invokeFunction('convertToInteractive',\n",
              "                                                     [key], {});\n",
              "          if (!dataTable) return;\n",
              "\n",
              "          const docLinkHtml = 'Like what you see? Visit the ' +\n",
              "            '<a target=\"_blank\" href=https://colab.research.google.com/notebooks/data_table.ipynb>data table notebook</a>'\n",
              "            + ' to learn more about interactive tables.';\n",
              "          element.innerHTML = '';\n",
              "          dataTable['output_type'] = 'display_data';\n",
              "          await google.colab.output.renderOutput(dataTable, element);\n",
              "          const docLink = document.createElement('div');\n",
              "          docLink.innerHTML = docLinkHtml;\n",
              "          element.appendChild(docLink);\n",
              "        }\n",
              "      </script>\n",
              "    </div>\n",
              "  </div>\n",
              "  "
            ],
            "text/plain": [
              "                                                  URL        Clase  \\\n",
              "10          https://en.wikipedia.org/wiki/Meteorology  Meteorology   \n",
              "12          https://en.wikipedia.org/wiki/Meteorology  Meteorology   \n",
              "14          https://en.wikipedia.org/wiki/Meteorology  Meteorology   \n",
              "16          https://en.wikipedia.org/wiki/Meteorology  Meteorology   \n",
              "18          https://en.wikipedia.org/wiki/Meteorology  Meteorology   \n",
              "...                                               ...          ...   \n",
              "19395  https://en.wikipedia.org/wiki/Sports_equipment        Sport   \n",
              "19397  https://en.wikipedia.org/wiki/Sports_equipment        Sport   \n",
              "19399  https://en.wikipedia.org/wiki/Sports_equipment        Sport   \n",
              "19401  https://en.wikipedia.org/wiki/Sports_equipment        Sport   \n",
              "19403  https://en.wikipedia.org/wiki/Sports_equipment        Sport   \n",
              "\n",
              "                                               Sentencia  \n",
              "10     meteorology branch atmospheric science which i...  \n",
              "12     meteorological phenomenon observable weather e...  \n",
              "14     meteorology climatology atmospheric physics at...  \n",
              "16     word meteorology ancient greek μετέωρος metéōr...  \n",
              "18     early attempt predicting weather often related...  \n",
              "...                                                  ...  \n",
              "19395  protective equipment often worn sport includin...  \n",
              "19397  example training equipment include swiss balls...  \n",
              "19399  special sport equipment equipment usually worn...  \n",
              "19401  vehicle sometimes specialized used equipment s...  \n",
              "19403  small vehicle flatbed often used carry injured...  \n",
              "\n",
              "[8009 rows x 3 columns]"
            ]
          },
          "execution_count": 10,
          "metadata": {},
          "output_type": "execute_result"
        }
      ],
      "source": [
        "# Generamos el DataFrame limpio y lo vemos\n",
        "df_limpio = limpiar_df(df_registros)\n",
        "df_limpio"
      ]
    },
    {
      "cell_type": "code",
      "execution_count": 11,
      "metadata": {
        "colab": {
          "base_uri": "https://localhost:8080/"
        },
        "id": "UR9yFWgdWG8j",
        "outputId": "fe8d0299-108b-4b49-cf9a-e317dabb66d1"
      },
      "outputs": [
        {
          "name": "stdout",
          "output_type": "stream",
          "text": [
            "Cantidad de registros: 8009\n",
            "Longitud máxima del texto: 2426\n",
            "Longitud media del texto: 393\n"
          ]
        }
      ],
      "source": [
        "# cantidad de registros\n",
        "cant_registros = df_limpio.shape[0]\n",
        "print(\"Cantidad de registros:\", cant_registros)\n",
        "\n",
        "# maxima longitud de sentencia\n",
        "max_longitud = max(df_limpio['Sentencia'].apply(len))\n",
        "print(\"Longitud máxima del texto:\", max_longitud)\n",
        "\n",
        "# longitud promedio de sentencia\n",
        "mean_longitud = round(np.mean(df_limpio['Sentencia'].apply(len)))\n",
        "print(\"Longitud media del texto:\", mean_longitud)"
      ]
    },
    {
      "cell_type": "markdown",
      "metadata": {
        "id": "ON5Ko-WO4C5J"
      },
      "source": [
        "## Separación de datos para entrenamiento, validación y testeo"
      ]
    },
    {
      "cell_type": "markdown",
      "metadata": {},
      "source": [
        "\n",
        "En primer lugar, necesitamos que las sentencias, las etiquetas de cada sentencia y las categorías que tenemos se guarden en una lista. Para ello, usamos la función `obtener_datos_etiquetas`."
      ]
    },
    {
      "cell_type": "code",
      "execution_count": 12,
      "metadata": {
        "id": "EU8WYooZWHBe"
      },
      "outputs": [],
      "source": [
        "def obtener_datos_etiquetas(df):\n",
        "    '''\n",
        "    Guarda las sentencias, etiquetas y categorías en listas.\n",
        "    '''\n",
        "    datos = df['Sentencia'].tolist()\n",
        "    etiqueta = df['Clase'].tolist()\n",
        "    categorias = df['Clase'].unique().tolist()\n",
        "\n",
        "    return datos, etiqueta, categorias\n"
      ]
    },
    {
      "cell_type": "code",
      "execution_count": 13,
      "metadata": {
        "colab": {
          "base_uri": "https://localhost:8080/"
        },
        "id": "Aw_8Db6MWHDz",
        "outputId": "44715824-756b-4e92-d0e5-4397d914b263"
      },
      "outputs": [
        {
          "data": {
            "text/plain": [
              "(8009, 8009, 3, ['Meteorology', 'Biology', 'Sport'])"
            ]
          },
          "execution_count": 13,
          "metadata": {},
          "output_type": "execute_result"
        }
      ],
      "source": [
        "# Inicializamos los datos, las etiquetas y las categorías\n",
        "datos, etiqueta, categorias = obtener_datos_etiquetas(df_limpio)\n",
        "# Observamos la cantidad de datos, de etiquetas, de categorías y vemos cuáles son las categorías\n",
        "len(datos), len(etiqueta), len(categorias), categorias"
      ]
    },
    {
      "cell_type": "markdown",
      "metadata": {
        "id": "mRKUFKHe5eiu"
      },
      "source": [
        "Ahora podemos hacer la separación del conjunto de datos en los subconjuntos que usaremos para entrenamiento, validación y testeo. Esto lo hacemos con la función `dividir_conjuntos`."
      ]
    },
    {
      "cell_type": "code",
      "execution_count": 14,
      "metadata": {
        "id": "XBGCUfcNZhvj"
      },
      "outputs": [],
      "source": [
        "def dividir_conjuntos(data, labels, test_size=0.3, val_size=0.3, random_state=42):\n",
        "    '''\n",
        "    Permite separar el conjunto de datos 'data' en subconjuntos de entrenamiento, validación y testeo.\n",
        "    Es necesario indicarle las proporciones para el testeo y validación.\n",
        "    Tener en cuenta que el conjunto primero se divide la proporción test_size, dejanto la mayor proporción para entrenamiento\n",
        "    y la menor proporción para testeo y validación, que luego es separado nuevamente con la proporción val_size, dejando la\n",
        "    mayor proporción para validación y el resto para testeo luego de entrenado el modelo.\n",
        "    '''\n",
        "    # División en entrenamiento y prueba\n",
        "    train_data, test_val_data, train_labels, test_val_labels = train_test_split(data,\n",
        "                                                                                labels,\n",
        "                                                                                test_size=test_size,\n",
        "                                                                                random_state=random_state)\n",
        "\n",
        "    # División adicional del conjunto de prueba en validación y testeo\n",
        "    val_data, test_data, val_labels, test_labels = train_test_split(test_val_data,\n",
        "                                                                    test_val_labels,\n",
        "                                                                    test_size=val_size,\n",
        "                                                                    random_state=random_state)\n",
        "\n",
        "    return train_data, val_data, test_data, train_labels, val_labels, test_labels\n"
      ]
    },
    {
      "cell_type": "code",
      "execution_count": 15,
      "metadata": {
        "colab": {
          "base_uri": "https://localhost:8080/"
        },
        "id": "pUDXQc_qZiB5",
        "outputId": "49939419-f281-444f-8ecd-bdc0368e881c"
      },
      "outputs": [
        {
          "data": {
            "text/plain": [
              "((5606, 5606), (1682, 1682), (721, 721))"
            ]
          },
          "execution_count": 15,
          "metadata": {},
          "output_type": "execute_result"
        }
      ],
      "source": [
        "# Inicializamos los conjuntos de datos y etiquetas para cada subonjunto\n",
        "train_data, val_data, test_data, train_labels, val_labels, test_labels = dividir_conjuntos(datos,\n",
        "                                                                                           etiqueta,\n",
        "                                                                                           test_size=0.3,\n",
        "                                                                                           val_size=0.3,\n",
        "                                                                                           random_state=42)\n",
        "# Verificamos las cantidades de cada subconjunto\n",
        "(len(train_data), len(train_labels)), (len(val_data), len(val_labels)), (len(test_data), len(test_labels))"
      ]
    },
    {
      "cell_type": "code",
      "execution_count": 16,
      "metadata": {
        "colab": {
          "base_uri": "https://localhost:8080/"
        },
        "id": "aGz9Ae4xgySc",
        "outputId": "f225a938-909b-469d-aad4-e7bd6fd7d831"
      },
      "outputs": [
        {
          "data": {
            "text/plain": [
              "(['march 2004 missy bellinder born 1981 later parkin became first female member pba66 pba opened membership woman following demise pwba one year later liz johnson became first woman make televised final round pba tour event67',\n",
              "  'different taekwondo style association ata itf gtf wt etc use different taekwondo forms even within single association different school association may use slightly different variation form use different name form especially older style taekwondo especially true beginner forms tend le standardized mainstream forms',\n",
              "  'signal processing employed radar system reduce radar interference effects signal processing technique include moving target indication pulsedoppler signal processing moving target detection processors correlation secondary surveillance radar targets spacetime adaptive processing trackbeforedetect constant false alarm rate digital terrain model processing also used clutter environments',\n",
              "  'four international age categories 1116 1218 1319 senior 15 used world championship many event around world including european championship world games',\n",
              "  'cloning process producing individual organism identical genomes either natural artificial means nature organism produce clone asexual reproduction reproduction organism without mate known parthenogenesis field biotechnology cloning process creating cloned organism cell dna fragments'],\n",
              " ['Sport', 'Sport', 'Meteorology', 'Sport', 'Biology'])"
            ]
          },
          "execution_count": 16,
          "metadata": {},
          "output_type": "execute_result"
        }
      ],
      "source": [
        "# Vemos los datos y sus etiquetas\n",
        "train_data[:5], train_labels[:5]"
      ]
    },
    {
      "cell_type": "markdown",
      "metadata": {
        "id": "eqwa445-69SC"
      },
      "source": [
        "## Acondicionamiento de los datos: Tokenización"
      ]
    },
    {
      "cell_type": "markdown",
      "metadata": {},
      "source": [
        "\n",
        "Para poder utilizar NLP, es necesario hacer algunos pasos para acondicionarlos.\n",
        "\n",
        "En primer lugar se usa la función `fit_tokenizer` que toma como entrada un conjunto de textos y ajusta el tokenizador ara que pueda entender y representar correctamente el vocabulario de esos textos. Un tokenizador es una herramienta que se utiliza para dividir el texto en unidades más pequeñas, llamadas tokens. Estos tokens pueden ser palabras individuales, caracteres, subpalabras, etc.\n",
        "\n",
        "Durante el ajuste, el tokenizador analiza los textos y construye un vocabulario, asignando un índice único a cada token."
      ]
    },
    {
      "cell_type": "code",
      "execution_count": 17,
      "metadata": {
        "id": "qI-369nBZiL3"
      },
      "outputs": [],
      "source": [
        "def fit_tokenizer(train_data, num_words):\n",
        "    '''\n",
        "    Instancia la clase Tokenizer y los ajusta a los datos\n",
        "    '''\n",
        "    # Inicializa la clase Tokenizer\n",
        "    tokenizer = Tokenizer(num_words=max_words, oov_token=\"\")\n",
        "\n",
        "    # Ajusta el tokenizador a los datos\n",
        "    tokenizer.fit_on_texts(train_data)\n",
        "\n",
        "    return tokenizer\n"
      ]
    },
    {
      "cell_type": "code",
      "execution_count": 18,
      "metadata": {
        "id": "NLuaRVwjZiOY"
      },
      "outputs": [],
      "source": [
        "# Seteamos el número máximo de palabras a considerar en nuestro vocabulario\n",
        "max_words = 10000\n",
        "\n",
        "# Ajustamos el Tokenizer a los datos de entrenamiento\n",
        "tokenizer = fit_tokenizer(train_data, max_words)\n",
        "\n",
        "# Generamos índices únicos a las palabras del vocabulario\n",
        "word_index = tokenizer.word_index"
      ]
    },
    {
      "cell_type": "markdown",
      "metadata": {
        "id": "-YVerija8oCt"
      },
      "source": [
        "A continuación, es necesario convertir una lista de textos en secuencias numéricas y luego realizar el relleno de secuencias (padding) para que todas las secuencias tengan la misma longitud. Para ello, utilizamos la función `seq_and_pad`."
      ]
    },
    {
      "cell_type": "code",
      "execution_count": 19,
      "metadata": {
        "id": "u4wyTfxha5fK"
      },
      "outputs": [],
      "source": [
        "def seq_and_pad(train_data, tokenizer, padding, maxlen):\n",
        "    '''\n",
        "    Convierte los textos en secuencias numéricas, luego rellena y trunca en función a la longitud máxima indicada.\n",
        "    '''\n",
        "    # Convierte las sentencias de entrenamiento a secuencias numéricas\n",
        "    sequences  = tokenizer.texts_to_sequences(train_data)\n",
        "\n",
        "    # Rellena y trunca las secuencias creadas\n",
        "    padded_sequences = pad_sequences(sequences,\n",
        "                                     maxlen=maxlen, # Aca usamos la longitud máxima que queremos para las sentencias\n",
        "                                     padding=padding, # Aca rellenamos si la secuencia es menor\n",
        "                                     truncating='post')\n",
        "\n",
        "    return padded_sequences"
      ]
    },
    {
      "cell_type": "code",
      "execution_count": 20,
      "metadata": {
        "colab": {
          "base_uri": "https://localhost:8080/"
        },
        "id": "WfUbc-yua52A",
        "outputId": "08fbb26f-3669-451d-b63d-3acd1d40f859"
      },
      "outputs": [
        {
          "data": {
            "text/plain": [
              "((5606, 500), (1682, 500), (721, 500))"
            ]
          },
          "execution_count": 20,
          "metadata": {},
          "output_type": "execute_result"
        }
      ],
      "source": [
        "# Longitud máxima de las secuencias de texto\n",
        "max_length = 500\n",
        "# estartegia de relleno\n",
        "padding = 'post'\n",
        "\n",
        "# Aplicamos la función a cada uno de los subconjuntos\n",
        "train_padded_seq = seq_and_pad(train_data, tokenizer, padding, max_length)\n",
        "val_padded_seq = seq_and_pad(val_data, tokenizer, padding, max_length)\n",
        "test_padded_seq = seq_and_pad(test_data, tokenizer, padding, max_length)\n",
        "\n",
        "# Revisamos la forma de cada secuencia\n",
        "train_padded_seq.shape, val_padded_seq.shape, test_padded_seq.shape"
      ]
    },
    {
      "cell_type": "markdown",
      "metadata": {
        "id": "NI69Vrec9622"
      },
      "source": [
        "De la misma manera que tokenizamos los datos, es necesario hacerlo sobre las etiquetas. Esto lo hacemos con la función `tokenize_labels`."
      ]
    },
    {
      "cell_type": "code",
      "execution_count": 22,
      "metadata": {
        "id": "72SbLLtFa57M"
      },
      "outputs": [],
      "source": [
        "def tokenize_labels(all_labels, split_labels):\n",
        "    '''\n",
        "    Convierte las etiquetas en secuencias numéricas.\n",
        "    En all_labels debemos indicar todas las etiquetas presentes en todo el conjunto de datos\n",
        "    '''\n",
        "    # Instanciamos el Tokenizer\n",
        "    label_tokenizer = Tokenizer()\n",
        "\n",
        "    # Ajustamos el toquenizador a las etiquetas\n",
        "    label_tokenizer.fit_on_texts(all_labels)\n",
        "\n",
        "    # Convierte las etiquetas en secuencias\n",
        "    label_seq = label_tokenizer.texts_to_sequences(split_labels)\n",
        "\n",
        "    # Convierte las secuencias a numpy array.\n",
        "    # Se resta 1 porque los valores de los campos del tokenizador comienzan con 1\n",
        "    # en lugar de cero\n",
        "    label_seq_np = np.array(label_seq)-1\n",
        "\n",
        "    return label_seq_np"
      ]
    },
    {
      "cell_type": "code",
      "execution_count": 23,
      "metadata": {
        "colab": {
          "base_uri": "https://localhost:8080/"
        },
        "id": "65aEsX2Ia59a",
        "outputId": "e1e338c6-95bd-4c22-9f33-2341cf0b6227"
      },
      "outputs": [
        {
          "data": {
            "text/plain": [
              "((5606, 1), (1682, 1), (721, 1))"
            ]
          },
          "execution_count": 23,
          "metadata": {},
          "output_type": "execute_result"
        }
      ],
      "source": [
        "# Aplicamos la función para cada subconjunto\n",
        "train_label_seq = tokenize_labels(categorias, train_labels)\n",
        "val_label_seq = tokenize_labels(categorias, val_labels)\n",
        "test_label_seq = tokenize_labels(categorias, test_labels)\n",
        "\n",
        "# Vemos las formas de cada uno\n",
        "train_label_seq.shape, val_label_seq.shape, test_label_seq.shape"
      ]
    },
    {
      "cell_type": "markdown",
      "metadata": {
        "id": "Dund_bBc_xrq"
      },
      "source": [
        "## Modelo de clasificación de texto"
      ]
    },
    {
      "cell_type": "markdown",
      "metadata": {},
      "source": [
        "\n",
        "En primer lugar, usaremos la función `crear_callbacks` que permite crear varios callbacks que usaremos durante el entrenamiento. Con estos callbacks podemos:\n",
        "* Parar el entrenamiento cuando la pérdida alcanza determinado valor\n",
        "* Parar el entrenamiento cuando la precisión alcanza determinado valor\n",
        "* Guardar los checkpoint cuando mejora la precisión de validación\n",
        "* Parar el entrenamiento cuando no hay mas mejoras en la pérdida de validación\n",
        "* Crea un CSV para guardar los logs\n",
        "\n",
        "Finalmente, retorna una lista con todos los callback a utilizar en el entrenamiento."
      ]
    },
    {
      "cell_type": "code",
      "execution_count": 24,
      "metadata": {
        "id": "JHHtRSpDa6Ec"
      },
      "outputs": [],
      "source": [
        "def crear_callbacks(carpeta_modelo, perdida, precision):\n",
        "    '''\n",
        "    Función que crea una lista de callback.\n",
        "    '''\n",
        "    # Crea el Callback para que pare el entrenamiento cuando se alcanza determinada pérdida\n",
        "    class MiPerdida(tf.keras.callbacks.Callback):\n",
        "        def __init__(self, perdida):\n",
        "            super().__init__()\n",
        "            self.perdida = perdida\n",
        "\n",
        "        def on_epoch_end(self, epoch, logs={}):\n",
        "            if logs.get('val_loss') < self.perdida:\n",
        "                print(f\"\\nAlcanzó una pérdida de validación menor de {self.perdida}, por lo que canceló el entrenamiento.\")\n",
        "                self.model.stop_training = True\n",
        "\n",
        "    # Crea el Callback para que pare el entrenamiento cuando se alcanza determinada precisión\n",
        "    class MiPrecision(tf.keras.callbacks.Callback):\n",
        "        def __init__(self, precision):\n",
        "            super().__init__()\n",
        "            self.precision = precision\n",
        "\n",
        "        def on_epoch_end(self, epoch, logs={}):\n",
        "            if logs.get(\"val_accuracy\") > self.precision:\n",
        "                print('Alcanzó la precisión deseada.')\n",
        "                self.model.stop_training = True\n",
        "\n",
        "    # Instanciamos MiPerdida y MiPrecision\n",
        "    perdida_callback = MiPerdida(perdida)\n",
        "    precision_callback = MiPrecision(precision)\n",
        "\n",
        "    # Crea Callback de Model Checkpoint: para salvar el modelo cada determinado intervalo\n",
        "    # En este caso se elige guardar cuando mejora el val_acc\n",
        "    if os.path.exists(carpeta_modelo):\n",
        "        shutil.rmtree(carpeta_modelo)\n",
        "    if not os.path.exists(carpeta_modelo):\n",
        "        os.makedirs(carpeta_modelo)\n",
        "\n",
        "    checkpointer = ModelCheckpoint(monitor='val_accuracy',\n",
        "                                   verbose=1,\n",
        "                                   save_best_only=True,\n",
        "                                   mode='max',\n",
        "                                   filepath=carpeta_modelo + '/pesos_modelo.h5')\n",
        "\n",
        "    # Crea Callback para parada temprana: para el entrenamiento cuando no hay mejora\n",
        "    # en la pérdida de validación por 10 epoch consecutivos\n",
        "    early_stop = EarlyStopping(monitor='val_loss', patience=10, verbose=1)\n",
        "\n",
        "    # Crea Callback para crear un CSV con los logs\n",
        "    log_csv = CSVLogger(f\"{carpeta_modelo}/logs_modelo.csv\", separator=',', append=True)\n",
        "\n",
        "    # Crea la lista de todos los Callbacks a usar\n",
        "    callbacks_list = [perdida_callback, precision_callback, early_stop, checkpointer, log_csv]\n",
        "\n",
        "    return callbacks_list"
      ]
    },
    {
      "cell_type": "code",
      "execution_count": 25,
      "metadata": {
        "id": "wnuFF10Gcchr"
      },
      "outputs": [],
      "source": [
        "# Definimos cómo se llamará la carpeta donde guardaremos todo lo referido al modelo\n",
        "carpeta_modelo = \"modelo\"\n",
        "\n",
        "# Definimos la precisión y pérdidas deseadas\n",
        "perdida_deseada = 0.1\n",
        "precision_deseada = 0.99\n",
        "\n",
        "# Creamos la lista de callbacks\n",
        "callbacks = crear_callbacks(carpeta_modelo, perdida_deseada, precision_deseada)"
      ]
    },
    {
      "cell_type": "markdown",
      "metadata": {
        "id": "-ElaqXe5B1J5"
      },
      "source": [
        "A continuación, creamos el modelo que usaremos en el entrenamiento. Para ello usamos la función `crear_modelo`.\n",
        "\n",
        "En este caso se eligió un modelo sequencial de tensorflow compuesto por las siguientes capas:\n",
        "\n",
        "* **Capa de Embedding**: Esta capa se encarga de mapear las palabras del vocabulario a vectores de números reales de longitud `embedding_dim`. Los parámetros `num_words`, `embedding_dim` y `maxlen` son utilizados para definir los atributos de esta capa. `num_words` representa el tamaño del vocabulario, `embedding_dim` especifica la dimensión de los vectores de embedding y `maxlen` es la longitud máxima de las secuencias de entrada.\n",
        "\n",
        "* **Capa Bidireccional LSTM (LSTM bidireccional)**: Esta capa contiene una capa LSTM que procesa la secuencia de entrada en ambas direcciones (hacia adelante y hacia atrás). Ayuda al modelo a capturar información contextual tanto de las palabras anteriores como de las posteriores en la secuencia. Los parámetros `lstm1_dim` y `return_sequences=True` definen el tamaño de la capa LSTM y especifican que se deben devolver las secuencias completas en lugar de solo la última salida.\n",
        "\n",
        "* **Capa Bidireccional LSTM (LSTM bidireccional)***: Esta capa es similar a la capa anterior y tiene el propósito de procesar aún vez más la secuencia de salida de la capa anterior en ambas direcciones. Los parámetros `lstm2_dim` especifican el tamaño de esta capa LSTM.\n",
        "\n",
        "* **Capa Densa**: Esta es la capa de salida del modelo y tiene una función de activación softmax. Mapea las salidas de la capa anterior a las probabilidades de pertenecer a cada una de las categorías. El parámetro `num_categories` define el número de categorías de salida.\n",
        "\n",
        "Finalmente, se utiliza el método `compile` para configurar la etapa de compilación de un modelo en Keras, donde se especifican la funció de pérdida, el algoritmo de optimización y las métricas adoptadas."
      ]
    },
    {
      "cell_type": "code",
      "execution_count": 26,
      "metadata": {
        "id": "SnQWv9y3gFkx"
      },
      "outputs": [],
      "source": [
        "def crear_model(num_words, embedding_dim, maxlen, lstm1_dim, lstm2_dim, num_categories):\n",
        "  #tf.random.set_seed(123)\n",
        "\n",
        "  model = tf.keras.Sequential([\n",
        "      tf.keras.layers.Embedding(num_words, embedding_dim, input_length=maxlen),\n",
        "      tf.keras.layers.Bidirectional(tf.keras.layers.LSTM(lstm1_dim, return_sequences=True)),\n",
        "      tf.keras.layers.Bidirectional(tf.keras.layers.LSTM(lstm2_dim)),\n",
        "      tf.keras.layers.Dense(num_categories, activation='softmax')\n",
        "  ])\n",
        "\n",
        "  model.compile(loss='sparse_categorical_crossentropy',\n",
        "                optimizer='adam',\n",
        "                metrics=['accuracy'])\n",
        "\n",
        "  return model"
      ]
    },
    {
      "cell_type": "code",
      "execution_count": 27,
      "metadata": {
        "colab": {
          "base_uri": "https://localhost:8080/"
        },
        "id": "lzWJN8fSccnK",
        "outputId": "3db99804-8b90-4a6d-ba57-ad528b9d419f"
      },
      "outputs": [
        {
          "name": "stdout",
          "output_type": "stream",
          "text": [
            "Model: \"sequential\"\n",
            "_________________________________________________________________\n",
            " Layer (type)                Output Shape              Param #   \n",
            "=================================================================\n",
            " embedding (Embedding)       (None, 500, 16)           160000    \n",
            "                                                                 \n",
            " bidirectional (Bidirectiona  (None, 500, 64)          12544     \n",
            " l)                                                              \n",
            "                                                                 \n",
            " bidirectional_1 (Bidirectio  (None, 32)               10368     \n",
            " nal)                                                            \n",
            "                                                                 \n",
            " dense (Dense)               (None, 3)                 99        \n",
            "                                                                 \n",
            "=================================================================\n",
            "Total params: 183,011\n",
            "Trainable params: 183,011\n",
            "Non-trainable params: 0\n",
            "_________________________________________________________________\n"
          ]
        }
      ],
      "source": [
        "# Seteo de las dimensiones para las LSTM\n",
        "lstm1_dim = 32\n",
        "lstm2_dim = 16\n",
        "embedding_dim = 16\n",
        "\n",
        "# Creación del modelo\n",
        "model = crear_model(max_words,\n",
        "              embedding_dim,\n",
        "              max_length,\n",
        "              lstm1_dim,\n",
        "              lstm2_dim,\n",
        "              len(categorias))\n",
        "\n",
        "# Vista de la arquitectura del modelo\n",
        "model.summary()"
      ]
    },
    {
      "cell_type": "markdown",
      "metadata": {
        "id": "Yvh8ZmvcD_QA"
      },
      "source": [
        "Finalmente, se utiliza el método `fit` para entrenar el modelo con los datos de entrenamiento y validar su rendimiento con los datos de validación.\n",
        "\n",
        "En este punto es donde se inicia el proceso de entrenamiento del modelo. Durante cada época, se ajustan los pesos del modelo utilizando el algoritmo de optimización especificado, se calcula la función de pérdida en los datos de entrenamiento y se evalúa el rendimiento del modelo en los datos de validación. El historial del entrenamiento, incluyendo las métricas y pérdidas calculadas en cada época, se guarda en el objeto `history`."
      ]
    },
    {
      "cell_type": "code",
      "execution_count": 28,
      "metadata": {
        "colab": {
          "base_uri": "https://localhost:8080/"
        },
        "id": "jDpj7j9KccpX",
        "outputId": "d4a38905-db3f-4466-dd23-4d3fcb59761d"
      },
      "outputs": [
        {
          "name": "stdout",
          "output_type": "stream",
          "text": [
            "Epoch 1/100\n",
            "11/11 [==============================] - ETA: 0s - loss: 1.0844 - accuracy: 0.4169\n",
            "Epoch 1: val_accuracy improved from -inf to 0.41677, saving model to modelo/pesos_modelo-0001-0.42.h5\n",
            "11/11 [==============================] - 63s 5s/step - loss: 1.0844 - accuracy: 0.4169 - val_loss: 1.0806 - val_accuracy: 0.4168\n",
            "Epoch 2/100\n",
            "11/11 [==============================] - ETA: 0s - loss: 1.0632 - accuracy: 0.4204\n",
            "Epoch 2: val_accuracy did not improve from 0.41677\n",
            "11/11 [==============================] - 56s 5s/step - loss: 1.0632 - accuracy: 0.4204 - val_loss: 1.0432 - val_accuracy: 0.4168\n",
            "Epoch 3/100\n",
            "11/11 [==============================] - ETA: 0s - loss: 0.9687 - accuracy: 0.4806\n",
            "Epoch 3: val_accuracy improved from 0.41677 to 0.63674, saving model to modelo/pesos_modelo-0003-0.64.h5\n",
            "11/11 [==============================] - 64s 5s/step - loss: 0.9687 - accuracy: 0.4806 - val_loss: 0.8776 - val_accuracy: 0.6367\n",
            "Epoch 4/100\n",
            "11/11 [==============================] - ETA: 0s - loss: 0.7309 - accuracy: 0.6998\n",
            "Epoch 4: val_accuracy improved from 0.63674 to 0.71819, saving model to modelo/pesos_modelo-0004-0.72.h5\n",
            "11/11 [==============================] - 45s 4s/step - loss: 0.7309 - accuracy: 0.6998 - val_loss: 0.6800 - val_accuracy: 0.7182\n",
            "Epoch 5/100\n",
            "11/11 [==============================] - ETA: 0s - loss: 0.6236 - accuracy: 0.8098\n",
            "Epoch 5: val_accuracy improved from 0.71819 to 0.90131, saving model to modelo/pesos_modelo-0005-0.90.h5\n",
            "11/11 [==============================] - 54s 5s/step - loss: 0.6236 - accuracy: 0.8098 - val_loss: 0.5320 - val_accuracy: 0.9013\n",
            "Epoch 6/100\n",
            "11/11 [==============================] - ETA: 0s - loss: 0.4327 - accuracy: 0.9509\n",
            "Epoch 6: val_accuracy improved from 0.90131 to 0.92331, saving model to modelo/pesos_modelo-0006-0.92.h5\n",
            "11/11 [==============================] - 46s 4s/step - loss: 0.4327 - accuracy: 0.9509 - val_loss: 0.4139 - val_accuracy: 0.9233\n",
            "Epoch 7/100\n",
            "11/11 [==============================] - ETA: 0s - loss: 0.3126 - accuracy: 0.9770\n",
            "Epoch 7: val_accuracy improved from 0.92331 to 0.95600, saving model to modelo/pesos_modelo-0007-0.96.h5\n",
            "11/11 [==============================] - 55s 5s/step - loss: 0.3126 - accuracy: 0.9770 - val_loss: 0.3143 - val_accuracy: 0.9560\n",
            "Epoch 8/100\n",
            "11/11 [==============================] - ETA: 0s - loss: 0.2304 - accuracy: 0.9839\n",
            "Epoch 8: val_accuracy did not improve from 0.95600\n",
            "11/11 [==============================] - 67s 6s/step - loss: 0.2304 - accuracy: 0.9839 - val_loss: 0.2872 - val_accuracy: 0.9370\n",
            "Epoch 9/100\n",
            "11/11 [==============================] - ETA: 0s - loss: 0.1757 - accuracy: 0.9925\n",
            "Epoch 9: val_accuracy improved from 0.95600 to 0.96076, saving model to modelo/pesos_modelo-0009-0.96.h5\n",
            "11/11 [==============================] - 62s 6s/step - loss: 0.1757 - accuracy: 0.9925 - val_loss: 0.2279 - val_accuracy: 0.9608\n",
            "Epoch 10/100\n",
            "11/11 [==============================] - ETA: 0s - loss: 0.1392 - accuracy: 0.9966\n",
            "Epoch 10: val_accuracy did not improve from 0.96076\n",
            "11/11 [==============================] - 65s 6s/step - loss: 0.1392 - accuracy: 0.9966 - val_loss: 0.2072 - val_accuracy: 0.9590\n",
            "Epoch 11/100\n",
            "11/11 [==============================] - ETA: 0s - loss: 0.1119 - accuracy: 0.9977\n",
            "Epoch 11: val_accuracy did not improve from 0.96076\n",
            "11/11 [==============================] - 62s 6s/step - loss: 0.1119 - accuracy: 0.9977 - val_loss: 0.1955 - val_accuracy: 0.9566\n",
            "Epoch 12/100\n",
            "11/11 [==============================] - ETA: 0s - loss: 0.0926 - accuracy: 0.9986\n",
            "Epoch 12: val_accuracy did not improve from 0.96076\n",
            "11/11 [==============================] - 58s 5s/step - loss: 0.0926 - accuracy: 0.9986 - val_loss: 0.1869 - val_accuracy: 0.9578\n",
            "Epoch 13/100\n",
            "11/11 [==============================] - ETA: 0s - loss: 0.0784 - accuracy: 0.9989\n",
            "Epoch 13: val_accuracy did not improve from 0.96076\n",
            "11/11 [==============================] - 56s 5s/step - loss: 0.0784 - accuracy: 0.9989 - val_loss: 0.1800 - val_accuracy: 0.9566\n",
            "Epoch 14/100\n",
            "11/11 [==============================] - ETA: 0s - loss: 0.0674 - accuracy: 0.9993\n",
            "Epoch 14: val_accuracy did not improve from 0.96076\n",
            "11/11 [==============================] - 46s 4s/step - loss: 0.0674 - accuracy: 0.9993 - val_loss: 0.1765 - val_accuracy: 0.9584\n",
            "Epoch 15/100\n",
            "11/11 [==============================] - ETA: 0s - loss: 0.0586 - accuracy: 0.9995\n",
            "Epoch 15: val_accuracy did not improve from 0.96076\n",
            "11/11 [==============================] - 59s 6s/step - loss: 0.0586 - accuracy: 0.9995 - val_loss: 0.1733 - val_accuracy: 0.9590\n",
            "Epoch 16/100\n",
            "11/11 [==============================] - ETA: 0s - loss: 0.0515 - accuracy: 0.9995\n",
            "Epoch 16: val_accuracy did not improve from 0.96076\n",
            "11/11 [==============================] - 59s 6s/step - loss: 0.0515 - accuracy: 0.9995 - val_loss: 0.1760 - val_accuracy: 0.9560\n",
            "Epoch 17/100\n",
            "11/11 [==============================] - ETA: 0s - loss: 0.0451 - accuracy: 0.9996\n",
            "Epoch 17: val_accuracy did not improve from 0.96076\n",
            "11/11 [==============================] - 59s 6s/step - loss: 0.0451 - accuracy: 0.9996 - val_loss: 0.1856 - val_accuracy: 0.9518\n",
            "Epoch 18/100\n",
            "11/11 [==============================] - ETA: 0s - loss: 0.0402 - accuracy: 0.9996\n",
            "Epoch 18: val_accuracy did not improve from 0.96076\n",
            "11/11 [==============================] - 60s 6s/step - loss: 0.0402 - accuracy: 0.9996 - val_loss: 0.1887 - val_accuracy: 0.9507\n",
            "Epoch 19/100\n",
            "11/11 [==============================] - ETA: 0s - loss: 0.0353 - accuracy: 0.9998\n",
            "Epoch 19: val_accuracy did not improve from 0.96076\n",
            "11/11 [==============================] - 56s 5s/step - loss: 0.0353 - accuracy: 0.9998 - val_loss: 0.1895 - val_accuracy: 0.9507\n",
            "Epoch 20/100\n",
            "11/11 [==============================] - ETA: 0s - loss: 0.0316 - accuracy: 0.9998\n",
            "Epoch 20: val_accuracy did not improve from 0.96076\n",
            "11/11 [==============================] - 54s 5s/step - loss: 0.0316 - accuracy: 0.9998 - val_loss: 0.1919 - val_accuracy: 0.9518\n",
            "Epoch 21/100\n",
            "11/11 [==============================] - ETA: 0s - loss: 0.0284 - accuracy: 0.9998\n",
            "Epoch 21: val_accuracy did not improve from 0.96076\n",
            "11/11 [==============================] - 63s 6s/step - loss: 0.0284 - accuracy: 0.9998 - val_loss: 0.1944 - val_accuracy: 0.9512\n",
            "Epoch 22/100\n",
            "11/11 [==============================] - ETA: 0s - loss: 0.0255 - accuracy: 0.9998\n",
            "Epoch 22: val_accuracy did not improve from 0.96076\n",
            "11/11 [==============================] - 57s 5s/step - loss: 0.0255 - accuracy: 0.9998 - val_loss: 0.1996 - val_accuracy: 0.9507\n",
            "Epoch 23/100\n",
            "11/11 [==============================] - ETA: 0s - loss: 0.0229 - accuracy: 0.9998\n",
            "Epoch 23: val_accuracy did not improve from 0.96076\n",
            "11/11 [==============================] - 64s 6s/step - loss: 0.0229 - accuracy: 0.9998 - val_loss: 0.2006 - val_accuracy: 0.9507\n",
            "Epoch 24/100\n",
            "11/11 [==============================] - ETA: 0s - loss: 0.0207 - accuracy: 0.9998\n",
            "Epoch 24: val_accuracy did not improve from 0.96076\n",
            "11/11 [==============================] - 62s 6s/step - loss: 0.0207 - accuracy: 0.9998 - val_loss: 0.2047 - val_accuracy: 0.9495\n",
            "Epoch 25/100\n",
            "11/11 [==============================] - ETA: 0s - loss: 0.0186 - accuracy: 0.9998\n",
            "Epoch 25: val_accuracy did not improve from 0.96076\n",
            "11/11 [==============================] - 49s 5s/step - loss: 0.0186 - accuracy: 0.9998 - val_loss: 0.2123 - val_accuracy: 0.9483\n",
            "Epoch 25: early stopping\n"
          ]
        }
      ],
      "source": [
        "history = model.fit(train_padded_seq,\n",
        "                    train_label_seq,\n",
        "                    epochs=100,\n",
        "                    validation_data=(val_padded_seq, val_label_seq),\n",
        "                    batch_size=510,\n",
        "                    callbacks = callbacks)"
      ]
    },
    {
      "cell_type": "markdown",
      "metadata": {
        "id": "yLZogWiyEhKR"
      },
      "source": [
        "Cómo usaremos este modelo entrenado en una API para hacer las predicciones, entonces necesitamos guardar los datos del tokenizador entrenado en un archivo Json. Con el siguiente código podemos guardar ese archivo."
      ]
    },
    {
      "cell_type": "code",
      "execution_count": 29,
      "metadata": {
        "id": "fz0wuNDq386v"
      },
      "outputs": [],
      "source": [
        "# guardar el tokenizador entrenado\n",
        "tokenizer_json = tokenizer.to_json()\n",
        "with open(carpeta_modelo + '/tokenizer.json', 'w', encoding='utf-8') as f:\n",
        "    f.write(json.dumps(tokenizer_json))"
      ]
    },
    {
      "cell_type": "markdown",
      "metadata": {
        "id": "RHZavMUyE4g0"
      },
      "source": [
        "## Evaluación del modelo"
      ]
    },
    {
      "cell_type": "markdown",
      "metadata": {},
      "source": [
        "\n",
        "Con la función `evaluar_modelo` podemos ver gráficamente cómo cambian la precisión y la pérdida durante las épocas de entrenamiento. Toma el historial de entrenamiento (`history`) como entrada y extrae las métricas de precisión y pérdida de las épocas de entrenamiento y validación."
      ]
    },
    {
      "cell_type": "code",
      "execution_count": 30,
      "metadata": {
        "id": "XWFj87CAccsO"
      },
      "outputs": [],
      "source": [
        "def evaluar_modelo(history):\n",
        "    # Almacena las precisiones y pérdidas para el entrenamiento y validación\n",
        "    epoch_accuracy = history.history['accuracy']\n",
        "    epoch_val_accuracy = history.history['val_accuracy']\n",
        "    epoch_loss = history.history['loss']\n",
        "    epoch_val_loss = history.history['val_loss']\n",
        "\n",
        "    plt.figure(figsize=(20, 6))\n",
        "\n",
        "    # Grafica la precisión en el entrenamiento y validación\n",
        "    plt.subplot(1, 2, 1)\n",
        "    plt.plot(range(0, len(epoch_accuracy)), epoch_accuracy, 'b-', linewidth=2, label='Precisión en Entrenamiento')\n",
        "    plt.plot(range(0, len(epoch_val_accuracy)), epoch_val_accuracy, 'r-', linewidth=2, label='Precisión en Validación')\n",
        "    plt.title('Precisión en Entrenamiento y Validación por epoch')\n",
        "    plt.xlabel('Epoch')\n",
        "    plt.ylabel('Precisión')\n",
        "    plt.legend(loc='best')\n",
        "\n",
        "    # Grafica la pérdida en el entrenamiento y validación\n",
        "    plt.subplot(1, 2, 2)\n",
        "    plt.plot(range(0, len(epoch_loss)), epoch_loss, 'b-', linewidth=2, label='Pérdida en Entrenamiento')\n",
        "    plt.plot(range(0, len(epoch_val_loss)), epoch_val_loss, 'r-', linewidth=2, label='Pérdida en Validación')\n",
        "    plt.title('Pérdida en Entrenamiento y Validación por epoch')\n",
        "    plt.xlabel('Epoch')\n",
        "    plt.ylabel('Loss')\n",
        "    plt.legend(loc='best')\n",
        "\n",
        "    plt.show()"
      ]
    },
    {
      "cell_type": "code",
      "execution_count": 31,
      "metadata": {
        "colab": {
          "base_uri": "https://localhost:8080/",
          "height": 437
        },
        "id": "BG6Bm4glsg7H",
        "outputId": "b5b71c0c-c202-4201-d799-f364edc81059"
      },
      "outputs": [
        {
          "data": {
            "image/png": "[encoded data removed]",
            "text/plain": [
              "<Figure size 2000x600 with 2 Axes>"
            ]
          },
          "metadata": {},
          "output_type": "display_data"
        }
      ],
      "source": [
        "# Usamos la función para evaluarlo\n",
        "evaluar_modelo(history)"
      ]
    },
    {
      "cell_type": "markdown",
      "metadata": {
        "id": "PsQo0QuaGv2Z"
      },
      "source": [
        "Otra forma de evaluar el modelo es usando el subconjunto de testeo para ver el rendimiento sobre datos nunca vistos durante el entenamiento. Para ello se usa el método `evaluate`."
      ]
    },
    {
      "cell_type": "code",
      "execution_count": 32,
      "metadata": {
        "colab": {
          "base_uri": "https://localhost:8080/"
        },
        "id": "-cLcnA93sg4R",
        "outputId": "965a427d-2a26-4304-9967-05b22a9bd985"
      },
      "outputs": [
        {
          "name": "stdout",
          "output_type": "stream",
          "text": [
            "23/23 [==============================] - 5s 228ms/step - loss: 0.2192 - accuracy: 0.9473\n"
          ]
        }
      ],
      "source": [
        "loss, accuracy = model.evaluate(test_padded_seq,\n",
        "                                test_label_seq)"
      ]
    },
    {
      "cell_type": "markdown",
      "metadata": {
        "id": "4NVXfzHcHDoX"
      },
      "source": [
        "## Predicciones"
      ]
    },
    {
      "cell_type": "markdown",
      "metadata": {},
      "source": [
        "\n",
        "Una vez que tenemos el modelo entrenado y con buen rendimiento, queremos hacer predicciones sobre nuevos textos para obtener la categoría a la cual pertenecen.\n",
        "\n",
        "Previamente a hacer la predicción, es necesario acondicionar esos textos con la mismas características con las que acondicionamos los datos de entrenamiento. Para ello, debemos pasar los textos por la función `procesar_textos`.\n",
        "\n",
        "Luego, se utiliza la función `preprocesar_predecir` que aplica la función anterior y realiza la predicción sobre ese texto."
      ]
    },
    {
      "cell_type": "code",
      "execution_count": 33,
      "metadata": {
        "id": "jeX_QGy-aV9H"
      },
      "outputs": [],
      "source": [
        "def preprocesar_textos(text):\n",
        "    '''\n",
        "    Realiza el acondicionamiento de textos para poder hacer predicciones sobre ellos usando el modelo entrenado previamente\n",
        "    '''\n",
        "    # Convertir todo a minúsculas\n",
        "    text = text.lower()\n",
        "\n",
        "    # Eliminar stopwords, números y signos de puntuación\n",
        "    stop_words = set(stopwords.words('english'))\n",
        "    lemmatizer = WordNetLemmatizer()\n",
        "    text = ' '.join([lemmatizer.lemmatize(word) for word in text.split() if word not in stop_words and not word.isnumeric()])\n",
        "\n",
        "    return text\n",
        "\n",
        "def preprocesar_predecir(new_text, tokenizer, padding, maxlen, model, categorias):\n",
        "    '''\n",
        "    Realiza el preprocesamiento del texto nuevo y luego la predicción de la categoría a la cual pertenece\n",
        "    '''\n",
        "    # Preprocesar el nuevo texto\n",
        "    preprocessed_text = preprocesar_textos(new_text)\n",
        "\n",
        "    # Cargar la lista de archivos de peso\n",
        "    weight_files = tf.keras.models.load_model('modelo/pesos_modelo.h5')\n",
        "\n",
        "    # Cargar los pesos guardados del modelo\n",
        "    model.load_weights(weight_files)\n",
        "\n",
        "    # Tokenizar y codificar el texto\n",
        "    sequence = tokenizer.texts_to_sequences([preprocessed_text])\n",
        "    padded_sequence = pad_sequences(sequence, maxlen=maxlen, padding=padding, truncating='post')\n",
        "\n",
        "    # Realiza la predicción (clacula las probabilidades para cada categoría)\n",
        "    prediction = model.predict(padded_sequence)[0]\n",
        "    print('Probabilidades de la predicción:', prediction)\n",
        "\n",
        "    # Muestra la etiqueta de la predicción\n",
        "    predicted_label = categorias[prediction.argmax()]\n",
        "    print('Etiqueta de la predicción:', predicted_label)\n",
        "\n",
        "    return prediction"
      ]
    },
    {
      "cell_type": "markdown",
      "metadata": {
        "id": "ykrryMYDJGWq"
      },
      "source": [
        "Generamos una lista de nuevos textos a las cuales les realizaremos las predicciones."
      ]
    },
    {
      "cell_type": "code",
      "execution_count": 34,
      "metadata": {
        "id": "DPPUnyeuuYoe"
      },
      "outputs": [],
      "source": [
        "# Nuevos textos a predecir\n",
        "new_texts = [\"The word meteorology is from the Ancient Greek.\",\n",
        "            \"Atmospheric chemistry is a branch of atmospheric science in which the chemistry of the Earth's atmosphere and that of other planets is studied\",\n",
        "            \"Rainbows can be full circles. However, the observer normally sees only an arc formed by illuminated droplets above the ground,[3] and centered on a line from the Sun to the observer's eye\",\n",
        "            \"Sport is generally recognised as system of activities based in physical athleticism\",\n",
        "            \"Two teams of usually between 11 and 18 players; some variations that have fewer players (five or more per team) are also popular\",\n",
        "            \"The game occurs over the course of several plays, with each play generally beginning when a player on the fielding team, called the pitcher, throws a ball that a player on the batting team, called the batter, tries to hit with a bat.\",\n",
        "            \"There are generally two types of cells: eukaryotic cells, which contain a nucleus, and prokaryotic cells, which do not\",\n",
        "            \"Meanwhile, taxonomy and classification became the focus of natural historians. Carl Linnaeus published a basic taxonomy for the natural world in 1735, and in the 1750s introduced scientific names for all his species\",\n",
        "            \"Eukaryotic cells contain membrane-bound organelles such as the nucleus, the endoplasmic reticulum, and the Golgi apparatus.\"]\n"
      ]
    },
    {
      "cell_type": "code",
      "execution_count": 35,
      "metadata": {
        "colab": {
          "base_uri": "https://localhost:8080/"
        },
        "id": "NMDyIOF1Nkpi",
        "outputId": "72c42556-88ab-40dd-ce49-d9736353d60c"
      },
      "outputs": [
        {
          "name": "stdout",
          "output_type": "stream",
          "text": [
            "The word meteorology is from the Ancient Greek.\n",
            "1/1 [==============================] - 2s 2s/step\n",
            "Probabilidades de la predicción: [0.75623626 0.09512137 0.14864238]\n",
            "Etiqueta de la predicción: Meteorology\n",
            "\n",
            "Atmospheric chemistry is a branch of atmospheric science in which the chemistry of the Earth's atmosphere and that of other planets is studied\n",
            "1/1 [==============================] - 0s 103ms/step\n",
            "Probabilidades de la predicción: [0.75864047 0.1522381  0.08912137]\n",
            "Etiqueta de la predicción: Meteorology\n",
            "\n",
            "Rainbows can be full circles. However, the observer normally sees only an arc formed by illuminated droplets above the ground,[3] and centered on a line from the Sun to the observer's eye\n",
            "1/1 [==============================] - 0s 85ms/step\n",
            "Probabilidades de la predicción: [0.75286317 0.07544558 0.1716913 ]\n",
            "Etiqueta de la predicción: Meteorology\n",
            "\n",
            "Sport is generally recognised as system of activities based in physical athleticism\n",
            "1/1 [==============================] - 0s 115ms/step\n",
            "Probabilidades de la predicción: [0.12711439 0.04965149 0.82323414]\n",
            "Etiqueta de la predicción: Sport\n",
            "\n",
            "Two teams of usually between 11 and 18 players; some variations that have fewer players (five or more per team) are also popular\n",
            "1/1 [==============================] - 0s 91ms/step\n",
            "Probabilidades de la predicción: [0.0762013  0.02750486 0.8962939 ]\n",
            "Etiqueta de la predicción: Sport\n",
            "\n",
            "The game occurs over the course of several plays, with each play generally beginning when a player on the fielding team, called the pitcher, throws a ball that a player on the batting team, called the batter, tries to hit with a bat.\n",
            "1/1 [==============================] - 0s 96ms/step\n",
            "Probabilidades de la predicción: [0.0693531  0.02491533 0.9057316 ]\n",
            "Etiqueta de la predicción: Sport\n",
            "\n",
            "There are generally two types of cells: eukaryotic cells, which contain a nucleus, and prokaryotic cells, which do not\n",
            "1/1 [==============================] - 0s 95ms/step\n",
            "Probabilidades de la predicción: [0.06166168 0.8945891  0.04374917]\n",
            "Etiqueta de la predicción: Biology\n",
            "\n",
            "Meanwhile, taxonomy and classification became the focus of natural historians. Carl Linnaeus published a basic taxonomy for the natural world in 1735, and in the 1750s introduced scientific names for all his species\n",
            "1/1 [==============================] - 0s 90ms/step\n",
            "Probabilidades de la predicción: [0.06413607 0.8886968  0.04716714]\n",
            "Etiqueta de la predicción: Biology\n",
            "\n",
            "Eukaryotic cells contain membrane-bound organelles such as the nucleus, the endoplasmic reticulum, and the Golgi apparatus.\n",
            "1/1 [==============================] - 0s 97ms/step\n",
            "Probabilidades de la predicción: [0.06259729 0.89316374 0.044239  ]\n",
            "Etiqueta de la predicción: Biology\n",
            "\n"
          ]
        }
      ],
      "source": [
        "# Usamos un ciclo for para analizar todos los textos de una vez\n",
        "for new_text in new_texts:\n",
        "  print(new_text)\n",
        "  new_text_prep = preprocesar_textos(new_text)\n",
        "  preprocesar_predecir(new_text_prep, tokenizer, padding, max_length, model, categorias)\n",
        "  print('')"
      ]
    }
  ],
  "metadata": {
    "colab": {
      "gpuType": "T4",
      "provenance": []
    },
    "kernelspec": {
      "display_name": "Python 3",
      "name": "python3"
    },
    "language_info": {
      "name": "python"
    }
  },
  "nbformat": 4,
  "nbformat_minor": 0
}
